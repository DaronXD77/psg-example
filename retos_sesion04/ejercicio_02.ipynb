{
 "cells": [
  {
   "cell_type": "markdown",
   "metadata": {},
   "source": [
    "# Description\n",
    "\n",
    "*This exercise is to print an image using a series of prints with these characters:*\n",
    "\n",
    "**\\ = O | # ( ) . * # - ' U**"
   ]
  },
  {
   "cell_type": "code",
   "execution_count": 1,
   "metadata": {},
   "outputs": [
    {
     "name": "stdout",
     "output_type": "stream",
     "text": [
      "    \\\\|||///\n",
      "   .  =======\n",
      "  / \\| O   O |\n",
      "  \\ / \\` _ '/\n",
      "   #    | |\n",
      "  (#) (     )\n",
      "   #\\//|* *|\\\n",
      "   #\\/(  *  )/\n",
      "   #   =====\n",
      "   #   ( U )\n",
      "   #   || ||\n",
      "  .#---'| |`----.\n",
      "  `#----' `-----'\n"
     ]
    },
    {
     "name": "stderr",
     "output_type": "stream",
     "text": [
      "<>:1: SyntaxWarning: invalid escape sequence '\\|'\n",
      "<>:3: SyntaxWarning: invalid escape sequence '\\|'\n",
      "<>:4: SyntaxWarning: invalid escape sequence '\\ '\n",
      "<>:7: SyntaxWarning: invalid escape sequence '\\/'\n",
      "<>:8: SyntaxWarning: invalid escape sequence '\\/'\n",
      "<>:1: SyntaxWarning: invalid escape sequence '\\|'\n",
      "<>:3: SyntaxWarning: invalid escape sequence '\\|'\n",
      "<>:4: SyntaxWarning: invalid escape sequence '\\ '\n",
      "<>:7: SyntaxWarning: invalid escape sequence '\\/'\n",
      "<>:8: SyntaxWarning: invalid escape sequence '\\/'\n",
      "C:\\Users\\Daron\\AppData\\Local\\Temp\\ipykernel_9640\\1608686632.py:1: SyntaxWarning: invalid escape sequence '\\|'\n",
      "  print(\"    \\\\\\|||///\")\n",
      "C:\\Users\\Daron\\AppData\\Local\\Temp\\ipykernel_9640\\1608686632.py:3: SyntaxWarning: invalid escape sequence '\\|'\n",
      "  print(\"  / \\| O   O |\")\n",
      "C:\\Users\\Daron\\AppData\\Local\\Temp\\ipykernel_9640\\1608686632.py:4: SyntaxWarning: invalid escape sequence '\\ '\n",
      "  print(\"  \\ / \\` _ '/\")\n",
      "C:\\Users\\Daron\\AppData\\Local\\Temp\\ipykernel_9640\\1608686632.py:7: SyntaxWarning: invalid escape sequence '\\/'\n",
      "  print(\"   #\\//|* *|\\\\\")\n",
      "C:\\Users\\Daron\\AppData\\Local\\Temp\\ipykernel_9640\\1608686632.py:8: SyntaxWarning: invalid escape sequence '\\/'\n",
      "  print(\"   #\\/(  *  )/\")\n"
     ]
    }
   ],
   "source": [
    "print(\"    \\\\\\|||///\")\n",
    "print(\"   .  =======\")\n",
    "print(\"  / \\| O   O |\")\n",
    "print(\"  \\ / \\` _ '/\")\n",
    "print(\"   #    | |\")\n",
    "print(\"  (#) (     )\")\n",
    "print(\"   #\\//|* *|\\\\\")\n",
    "print(\"   #\\/(  *  )/\")\n",
    "print(\"   #   =====\")\n",
    "print(\"   #   ( U )\")\n",
    "print(\"   #   || ||\")\n",
    "print(\"  .#---'| |`----.\")\n",
    "print(\"  `#----' `-----'\")"
   ]
  }
 ],
 "metadata": {
  "kernelspec": {
   "display_name": "Python 3",
   "language": "python",
   "name": "python3"
  },
  "language_info": {
   "codemirror_mode": {
    "name": "ipython",
    "version": 3
   },
   "file_extension": ".py",
   "mimetype": "text/x-python",
   "name": "python",
   "nbconvert_exporter": "python",
   "pygments_lexer": "ipython3",
   "version": "3.12.1"
  }
 },
 "nbformat": 4,
 "nbformat_minor": 2
}
