{
 "cells": [
  {
   "cell_type": "markdown",
   "metadata": {},
   "source": [
    "# Getquickdrukn +18\n",
    "\n",
    " **Game goal: Kickstart a party in the shortest amount of time**\n",
    " \n",
    " *This game is only for people who have experience drinking alcohol and can handle getting drunk, because in this game you will drink a lot of alcohol. Good luck!!!*\n",
    "\n",
    "\\\\(O_o)/"
   ]
  },
  {
   "cell_type": "markdown",
   "metadata": {},
   "source": [
    "1. Se necesita un licor que alcance para todos, de preferencia debe ser uno que tenga 40% de alcohol o mas\n",
    "2. Pueden Jugar todos los jugadores que quieran siempre y cuando el licor alcance para todos\n",
    "3. Al jugdaor que tuvo la idea de jugar se le dara el honor de empezar por lo que debera tirar un dado en el tablero\n",
    "4. El tablero es infinito ya que solo va en circulos en sentido horario desde la casilla que el primer jugador elija para empezar\n",
    "5. La casilla en la que caiga la ficha que es general indica la cantidad de shots que debe tomar el jugador\n",
    "6. Hay una casilla que dice Reto o Lamento(RoL). Cuando se cae en esta casilla, el jugador debe hacer un Reto que los demas jugadores elijan, si se niega entonces debera tomar 5 shots\n",
    "7. El juego termina cuando ya no se pueda jugar o los demas decidan que ya tomaron suficiente y la fiesta se haya encendido."
   ]
  },
  {
   "cell_type": "code",
   "execution_count": null,
   "metadata": {},
   "outputs": [],
   "source": [
    "# Game board\n",
    "print(\"RoL 0 3 2 3 1\")\n",
    "print(\"2          Rol\")\n",
    "print(\"3  \\(O_o)/  0\")\n",
    "print(\"1           2\")\n",
    "print(\"0           1\")\n",
    "print(\"1 0 1 RoL 1 2\")"
   ]
  },
  {
   "cell_type": "markdown",
   "metadata": {},
   "source": [
    "# Piezas\n",
    "1. Una unica ficha de metal con forma de \"Drunk Man\"\n",
    "2. Un tablero de juego de 60cm x 60cm\n",
    "3. Un dado de 6 lados\n",
    "4. 5 vasos de shot\n",
    "\n",
    "> Bebidas no incluidas...   "
   ]
  },
  {
   "cell_type": "code",
   "execution_count": null,
   "metadata": {},
   "outputs": [],
   "source": [
    "print(\"     __      \")\n",
    "print(\"  ___| |___  \")\n",
    "print(\"    (O_o) /  \")\n",
    "print(\"   \\__|__/   \")\n",
    "print(\"      |      \")\n",
    "print(\"     / \\     \")\n",
    "print(\"    /   \\    \")"
   ]
  }
 ],
 "metadata": {
  "language_info": {
   "name": "python"
  }
 },
 "nbformat": 4,
 "nbformat_minor": 2
}
